{
 "cells": [
  {
   "cell_type": "code",
   "execution_count": 14,
   "metadata": {},
   "outputs": [
    {
     "name": "stdout",
     "output_type": "stream",
     "text": [
      "{'A': 16, 'T': 9, 'G': 4, 'C': 10}\n",
      "{'A': 16, 'C': 10, 'G': 4, 'T': 9}\n",
      "{'A': 1, 'T': 2, 'G': 1, 'C': 2, 'D': 1, 'N': 1}\n",
      "{'A': 16, 'C': 10, 'G': 4, 'T': 9}\n",
      "Unknown D Nucleotide Present\n"
     ]
    }
   ],
   "source": [
    "from collections import Counter\n",
    "import pandas as pd\n",
    "\n",
    "seq1 = \"ATTAAAGGTTTATACCTTCCCAGGTAACAAACCAACCAA\"\n",
    "\n",
    "#Method 1: Get frequency\n",
    "def get_frequency(seq):\n",
    "    return dict(Counter(seq))\n",
    "print(get_frequency(seq1))\n",
    "\n",
    "#Method 2: Custom function for get frequency for DNA\n",
    "def get_symbol_freq(seq):\n",
    "    freq_dict = {\"A\":0, \"C\":0, \"G\":0, \"T\":0}\n",
    "    for nucleotide in seq:\n",
    "        freq_dict[nucleotide] += 1\n",
    "    return freq_dict\n",
    "print(get_symbol_freq(seq1))\n",
    "\n",
    "#Testing\n",
    "seq2 = \"ATGCTCDN\"\n",
    "print(get_frequency(seq2)) #No error\n",
    "#print(get_symbol_freq(seq2)) #Gets error, good because other letters that are not DNA nucleotides are present\n",
    "\n",
    "#Method 3: Improvement\n",
    "def get_symbol_freq2(seq):\n",
    "    nucleotides = set([\"A\", \"C\", \"G\", \"T\"])\n",
    "    seq1 = seq.upper()\n",
    "    for base in seq1:\n",
    "        if base not in nucleotides:\n",
    "            return \"Unknown {} Nucleotide Present\".format(base)\n",
    "    return get_symbol_freq(seq1)\n",
    "\n",
    "print(get_symbol_freq2(seq1))\n",
    "print(get_symbol_freq2(seq2))"
   ]
  },
  {
   "cell_type": "code",
   "execution_count": 15,
   "metadata": {},
   "outputs": [
    {
     "name": "stdout",
     "output_type": "stream",
     "text": [
      "35.8974358974359\n",
      "64.1025641025641\n"
     ]
    }
   ],
   "source": [
    "#GC and AT Content\n",
    "\n",
    "#GC or AT Content\n",
    "def content(seq,content_type=\"GC\"):\n",
    "    content_type = tuple(content_type)\n",
    "    return float(str(seq).count(content_type[0]) + str(seq).count(content_type[1]))/len(seq) * 100\n",
    "print(content(seq1))\n",
    "print(content(seq1,\"AT\"))"
   ]
  },
  {
   "cell_type": "code",
   "execution_count": 16,
   "metadata": {},
   "outputs": [
    {
     "name": "stdout",
     "output_type": "stream",
     "text": [
      "Using Complement 1 function:\n",
      "ATTAAAGGTTTATACCTTCCCAGGTAACAAACCAACCAA\n",
      "TAATTTCCAAATATGGAAGGGTCCATTGTTTGGTTGGTT \n",
      "\n",
      "Using Complement 2 function:\n",
      "ATTAAAGGTTTATACCTTCCCAGGTAACAAACCAACCAA\n",
      "TAATTTCCAAATATGGAAGGGTCCATTGTTTGGTTGGTT \n",
      "\n",
      "Using reverse Complement function:\n",
      "TTGGTTGGTTTGTTACCTGGGAAGGTATAAACCTTTAAT\n"
     ]
    }
   ],
   "source": [
    "#Complement and reverse complement\n",
    "def complement(seq):\n",
    "    pairs = \"\"\n",
    "    base_pairs = {\"A\":\"T\", \"T\":\"A\", \"G\":\"C\", \"C\":\"G\"}\n",
    "    for nucleotide in seq:\n",
    "        if nucleotide in base_pairs.keys():\n",
    "            pairs += base_pairs[nucleotide]\n",
    "    return pairs\n",
    "\n",
    "print(\"Using Complement 1 function:\")\n",
    "print(seq1)\n",
    "print(complement(seq1),\"\\n\")\n",
    "\n",
    "\n",
    "def complement2(seq):\n",
    "    base_pairs = {\"A\":\"T\", \"T\":\"A\", \"G\":\"C\", \"C\":\"G\"}\n",
    "    pairs = [base_pairs[a] for a in seq if a in base_pairs.keys()]\n",
    "    return \"\".join(pairs)\n",
    "\n",
    "print(\"Using Complement 2 function:\") #Fastest version, used %%timeit and can also use dis.dis(function call), import dis\n",
    "print(seq1)\n",
    "print(complement2(seq1),\"\\n\")\n",
    "\n",
    "\n",
    "def reverse_complement(seq):\n",
    "    return complement(seq)[::-1]\n",
    "print(\"Using reverse Complement function:\")\n",
    "print(reverse_complement(seq1))"
   ]
  },
  {
   "cell_type": "code",
   "execution_count": 17,
   "metadata": {},
   "outputs": [
    {
     "name": "stdout",
     "output_type": "stream",
     "text": [
      "9.06 µs ± 251 ns per loop (mean ± std. dev. of 7 runs, 100000 loops each)\n"
     ]
    }
   ],
   "source": [
    "%%timeit\n",
    "complement(seq1)"
   ]
  },
  {
   "cell_type": "code",
   "execution_count": 18,
   "metadata": {},
   "outputs": [
    {
     "name": "stdout",
     "output_type": "stream",
     "text": [
      "7.52 µs ± 62.6 ns per loop (mean ± std. dev. of 7 runs, 100000 loops each)\n"
     ]
    }
   ],
   "source": [
    "%%timeit\n",
    "complement2(seq1)"
   ]
  },
  {
   "cell_type": "code",
   "execution_count": 19,
   "metadata": {},
   "outputs": [
    {
     "name": "stdout",
     "output_type": "stream",
     "text": [
      "AUUAAAGGUUUAUACCUUCCCAGGUAACAAACCAACCAA\n",
      "IKGLYLPR*QTNQ\n",
      "IKGLYLPR*QTNQ\n"
     ]
    }
   ],
   "source": [
    "#Protein Synthesis\n",
    "#Transcription\n",
    "#Translation\n",
    "\n",
    "def transcription(dna_seq):\n",
    "    return dna_seq.replace(\"T\", \"U\")\n",
    "print(transcription(seq1))\n",
    "\n",
    "CodonTable = {# 'M' - START, '*' - STOP\n",
    "    \"GCT\": \"A\", \"GCC\": \"A\", \"GCA\": \"A\", \"GCG\": \"A\",\n",
    "    \"TGT\": \"C\", \"TGC\": \"C\",\n",
    "    \"GAT\": \"D\", \"GAC\": \"D\",\n",
    "    \"GAA\": \"E\", \"GAG\": \"E\",\n",
    "    \"TTT\": \"F\", \"TTC\": \"F\",\n",
    "    \"GGT\": \"G\", \"GGC\": \"G\", \"GGA\": \"G\", \"GGG\": \"G\",\n",
    "    \"CAT\": \"H\", \"CAC\": \"H\",\n",
    "    \"ATA\": \"I\", \"ATT\": \"I\", \"ATC\": \"I\",\n",
    "    \"AAA\": \"K\", \"AAG\": \"K\",\n",
    "    \"TTA\": \"L\", \"TTG\": \"L\", \"CTT\": \"L\", \"CTC\": \"L\", \"CTA\": \"L\", \"CTG\": \"L\",\n",
    "    \"ATG\": \"M\",\n",
    "    \"AAT\": \"N\", \"AAC\": \"N\",\n",
    "    \"CCT\": \"P\", \"CCC\": \"P\", \"CCA\": \"P\", \"CCG\": \"P\",\n",
    "    \"CAA\": \"Q\", \"CAG\": \"Q\",\n",
    "    \"CGT\": \"R\", \"CGC\": \"R\", \"CGA\": \"R\", \"CGG\": \"R\", \"AGA\": \"R\", \"AGG\": \"R\",\n",
    "    \"TCT\": \"S\", \"TCC\": \"S\", \"TCA\": \"S\", \"TCG\": \"S\", \"AGT\": \"S\", \"AGC\": \"S\",\n",
    "    \"ACT\": \"T\", \"ACC\": \"T\", \"ACA\": \"T\", \"ACG\": \"T\",\n",
    "    \"GTT\": \"V\", \"GTC\": \"V\", \"GTA\": \"V\", \"GTG\": \"V\",\n",
    "    \"TGG\": \"W\",\n",
    "    \"TAT\": \"Y\", \"TAC\": \"Y\",\n",
    "    \"TAA\": \"*\", \"TAG\": \"*\", \"TGA\": \"*\"}\n",
    "\n",
    "'''\n",
    "Reading RNA codons from Full_Codontable.csv\n",
    "\n",
    "df = pd.read_csv(\"Full_Codontable.csv\")\n",
    "\n",
    "new_codon_table,row_number = {},0\n",
    "for codons in df[\"Codons\"]:\n",
    "    codons_list = codons.split(\", \")\n",
    "    for codon in codons_list:\n",
    "        new_codon_table[codon] = df[\"1 Letter Symbol\"][row_number]\n",
    "    row_number += 1\n",
    "'''\n",
    "\n",
    "#Method 1 - Convert DNA to Amino Acid\n",
    "def translation(mrna,start_pos=0):\n",
    "    amino_acid_seq = \"\"\n",
    "    for pos in range(start_pos,len(mrna)-2,3):\n",
    "        amino_acid_seq += CodonTable[mrna[pos:pos+3]]\n",
    "    return amino_acid_seq\n",
    "print(translation(seq1))\n",
    "\n",
    "#Method 2\n",
    "def translation2(seq,start_pos=0):\n",
    "    amino_acid_list = [CodonTable[seq[pos:pos+3]] for pos in range(start_pos, len(seq)-2, 3)]\n",
    "    return \"\".join(amino_acid_list)\n",
    "print(translation2(seq1)) #Fastest function"
   ]
  },
  {
   "cell_type": "code",
   "execution_count": 20,
   "metadata": {},
   "outputs": [
    {
     "name": "stdout",
     "output_type": "stream",
     "text": [
      "4.21 µs ± 151 ns per loop (mean ± std. dev. of 7 runs, 100000 loops each)\n"
     ]
    }
   ],
   "source": [
    "%%timeit\n",
    "translation(seq1)"
   ]
  },
  {
   "cell_type": "code",
   "execution_count": 21,
   "metadata": {},
   "outputs": [
    {
     "name": "stdout",
     "output_type": "stream",
     "text": [
      "4.04 µs ± 23.8 ns per loop (mean ± std. dev. of 7 runs, 100000 loops each)\n"
     ]
    }
   ],
   "source": [
    "%%timeit\n",
    "translation2(seq1)"
   ]
  },
  {
   "cell_type": "code",
   "execution_count": 22,
   "metadata": {},
   "outputs": [
    {
     "name": "stdout",
     "output_type": "stream",
     "text": [
      "Alanine\n",
      "Ala\n",
      "AlaThrThrAlaAlaAlaGlyGlyThrThrThrAlaThrAlaCysCysThrThrCysCysCysAlaGlyGlyThrAlaAlaCysAlaAlaAlaCysCysAlaAlaCysCysAlaAla\n",
      "IleLysGlyLeuTyrLeuProArg\n",
      "IKGLYLPR\n"
     ]
    }
   ],
   "source": [
    "#Convert 1 letter to 3 letter or vice versa\n",
    "\n",
    "#Dictionaries to convert 1 letter to 3 and vice versa\n",
    "df = pd.read_csv(\"Full_Codontable.csv\")\n",
    "full_aa_3letter_symbol_dict = dict(zip(df[\"Amino acids\"],df[\"3 Letter Symbol\"]))\n",
    "aa_3letter_1letter_dict = dict(zip(df[\"3 Letter Symbol\"],df[\"1 Letter Symbol\"]))\n",
    "\n",
    "#Get dictionary key or value\n",
    "def get_key_or_value(key_value,my_dict,getkey=False):\n",
    "    for key,value in my_dict.items():\n",
    "        if getkey==True:\n",
    "            if key_value == key:\n",
    "                return value\n",
    "        if getkey==False:\n",
    "            if key_value == value:\n",
    "                return key\n",
    "\n",
    "'''def get_key(key_value, my_dict):\n",
    "    for key,value in my_dict.items():\n",
    "        if key_value == value:\n",
    "            return key\n",
    "\n",
    "#Get value\n",
    "def get_value(key_value, my_dict):\n",
    "    for key,value in my_dict.items():\n",
    "        if key_value == key:\n",
    "            return value'''\n",
    "\n",
    "#Get key\n",
    "print(get_key_or_value(\"Ala\",full_aa_3letter_symbol_dict))\n",
    "\n",
    "#Get Value\n",
    "print(get_key_or_value(\"Alanine\",full_aa_3letter_symbol_dict,True))\n",
    "\n",
    "#Method 1: Convert 1 letter to 3 letter amino acid\n",
    "def convert_1_to_3(seq):\n",
    "    letter_conversions = \"\"\n",
    "    for letter in seq:\n",
    "        letter_conversions += get_key_or_value(letter,aa_3letter_1letter_dict)\n",
    "    return letter_conversions\n",
    "\n",
    "print(convert_1_to_3(seq1))\n",
    "print(convert_1_to_3(\"IKGLYLPR\"))\n",
    "\n",
    "#Method 1: Convert 3letter to 1 letter amino acid\n",
    "def convert_3_to_1_v1(seq,start_pos=0):\n",
    "    letter_conversions = \"\"\n",
    "    for aa_3 in range(start_pos,len(seq),3):\n",
    "        letter_conversions += get_key_or_value(seq[aa_3:aa_3+3],aa_3letter_1letter_dict,True)\n",
    "    return letter_conversions\n",
    "print(convert_3_to_1_v1(convert_1_to_3(\"IKGLYLPR\")))"
   ]
  },
  {
   "cell_type": "code",
   "execution_count": 23,
   "metadata": {},
   "outputs": [
    {
     "name": "stdout",
     "output_type": "stream",
     "text": [
      "['ATT', 'AAA', 'GGT', 'TTA', 'TAC', 'CTT', 'CCC', 'AGG', 'TAA', 'CAA', 'ACC', 'AAC', 'CAA']\n",
      "IKGLYLPR\n"
     ]
    }
   ],
   "source": [
    "#Kmers\n",
    "def find_kmers(seq,k=2):\n",
    "    pairs = []\n",
    "    for pair in range(0,len(seq),k):\n",
    "        pairs.append(seq[pair:pair+k])\n",
    "    return pairs\n",
    "print(find_kmers(seq1,3))\n",
    "\n",
    "#Finding kmers is a generic version of the convert_3_to_1 function from above.\n",
    "#Method 2:\n",
    "def convert_3_to_1_v2(seq):\n",
    "    pairs = []\n",
    "    for i in find_kmers(seq, k=3):\n",
    "        results = get_key_or_value(i,aa_3letter_1letter_dict,True)\n",
    "        pairs.append(results)\n",
    "    return \"\".join(pairs)\n",
    "print(convert_3_to_1_v2(convert_1_to_3(\"IKGLYLPR\")))"
   ]
  },
  {
   "cell_type": "code",
   "execution_count": 24,
   "metadata": {},
   "outputs": [
    {
     "name": "stdout",
     "output_type": "stream",
     "text": [
      "2\n"
     ]
    }
   ],
   "source": [
    "#Getting Hamming Distance, similarity between two DNA strands\n",
    "#If completely similar then it returns 0\n",
    "def hamming_distance(lhs,rhs):\n",
    "    return len([(x,y) for x, y in zip(lhs,rhs) if x != y])\n",
    "print(hamming_distance(\"ATCTA\",\"ACTTA\"))\n"
   ]
  },
  {
   "cell_type": "code",
   "execution_count": 25,
   "metadata": {},
   "outputs": [
    {
     "name": "stdout",
     "output_type": "stream",
     "text": [
      "[7]\n"
     ]
    }
   ],
   "source": [
    "#Start positions of the occurances of subsequences inside a larger main sequence\n",
    "def occurances(main_seq,sub_seq):\n",
    "    start, indices = 0, []\n",
    "    while True:\n",
    "        start = main_seq.find(sub_seq,start)\n",
    "        if start > 0:\n",
    "            indices.append(start)\n",
    "        else:\n",
    "            break\n",
    "        start += 1\n",
    "    return indices\n",
    "print(occurances(seq1,\"GTT\"))"
   ]
  },
  {
   "cell_type": "code",
   "execution_count": null,
   "metadata": {},
   "outputs": [],
   "source": []
  }
 ],
 "metadata": {
  "kernelspec": {
   "display_name": "Python 3",
   "language": "python",
   "name": "python3"
  },
  "language_info": {
   "codemirror_mode": {
    "name": "ipython",
    "version": 3
   },
   "file_extension": ".py",
   "mimetype": "text/x-python",
   "name": "python",
   "nbconvert_exporter": "python",
   "pygments_lexer": "ipython3",
   "version": "3.7.4"
  }
 },
 "nbformat": 4,
 "nbformat_minor": 4
}
