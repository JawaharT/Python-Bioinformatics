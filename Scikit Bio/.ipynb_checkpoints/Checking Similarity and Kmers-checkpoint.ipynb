{
 "cells": [
  {
   "cell_type": "code",
   "execution_count": 1,
   "metadata": {},
   "outputs": [],
   "source": [
    "from skbio import DNA\n",
    "from skbio.sequence.distance import kmer_distance\n",
    "import matplotlib.pyplot as plt\n",
    "\n",
    "#Checking Distance similarity of sequence, i.e. finding match, mismatch or gaps\n",
    "\n",
    "#Hamming Distance - must have same length\n",
    "\n",
    "#Checking for dissimilarity\n",
    "#Used in sequence clustering, phylogenetic reconstruction\n",
    "#Mismatch and match frequency\n",
    "#Kmer-distance"
   ]
  },
  {
   "cell_type": "code",
   "execution_count": 2,
   "metadata": {},
   "outputs": [
    {
     "name": "stdout",
     "output_type": "stream",
     "text": [
      "7\n",
      "[ True  True  True False False  True  True  True  True]\n",
      "2\n",
      "[False False False  True  True False False False False]\n",
      "0.2222222222222222\n",
      "2\n",
      "{'ACT': 1, 'CTA': 1, 'TAT': 1, 'ATC': 1, 'TCA': 1, 'CAG': 1, 'AGT': 1}\n",
      "{'ACT': 1, 'CTT': 1, 'TTA': 1, 'TAC': 1, 'ACA': 1, 'CAG': 1, 'AGT': 1}\n",
      "\n",
      "Scikit Bio Kmer distance method Result: 0.7272727272727273\n",
      "Custom Kmer distance function 1 Result: 0.7272727272727273\n",
      "Custom Kmer distance function 2 Result: 0.7272727272727273\n",
      "Use Symmetric Difference in Set for Kmer Distance: 0.7272727272727273\n"
     ]
    }
   ],
   "source": [
    "seq1 = DNA(\"ACTATCAGT\")\n",
    "seq2 = DNA(\"ACTTACAGT\")\n",
    "\n",
    "#Calculate matches,mismatches frequency\n",
    "print(seq1.match_frequency(seq2))\n",
    "\n",
    "#Get actual matches, returns comparisions between each letter as Bool\n",
    "print(seq1.matches(seq2))\n",
    "\n",
    "#Get frequency for mismatches\n",
    "print(seq1.mismatch_frequency(seq2))\n",
    "\n",
    "#Get actual mismatches, returns comparisions between each letter as Bool\n",
    "print(seq1.mismatches(seq2))\n",
    "\n",
    "#Get Hamming Distance using Scikit Bio - explanation in Biopython program\n",
    "print(seq1.distance(seq2))\n",
    "\n",
    "\n",
    "#Custom Hamming distance Function\n",
    "def hamming_distance(lhs,rhs):\n",
    "    return len([(x,y) for x,y in zip(lhs,rhs) if x != y])\n",
    "\n",
    "print(hamming_distance(seq1,seq2))\n",
    "\n",
    "\n",
    "#Kmer distance between 2 sequences is the fraction of kmers that are unique to either sequence.\n",
    "#Find Kmers not found in each sequence: the sum of non-intersection\n",
    "#Using set ^ set for dissimilar/symmetric_difference\n",
    "\n",
    "#Finds and counts number of unique slices of sequence given, argument specifies length of unique slice to find i.e. k\n",
    "#Can be used to compare similarity between each sequence\n",
    "seq1_freq = seq1.kmer_frequencies(3)\n",
    "seq2_freq = seq2.kmer_frequencies(3)\n",
    "print(seq1_freq)\n",
    "print(seq2_freq)\n",
    "\n",
    "#kmer distance\n",
    "print(\"\\nScikit Bio Kmer distance method Result:\",kmer_distance(seq1,seq2,k=3))\n",
    "\n",
    "#Kmer distance custom function: Set, intersect and dissimilar set\n",
    "\n",
    "#Method 1\n",
    "def custom_kmer_distance1(seq1,seq2):\n",
    "    seq1_set, seq2_set = set(seq1), set(seq2)\n",
    "    #dissimilarity seq = union seq - intersection seq\n",
    "    dissimilarity = len(seq1_set.union(seq2_set)) - len(seq1_set.intersection(seq2_set))\n",
    "    unique_distance = dissimilarity/len(seq1_set.union(seq2_set))\n",
    "    return unique_distance\n",
    "\n",
    "\n",
    "#Method 2\n",
    "def custom_kmer_distance2(seq1,seq2):\n",
    "    seq1_set, seq2_set = set(seq1), set(seq2)\n",
    "    #dissimilarity seq = union seq - intersection seq\n",
    "    #dissimilarity = len(seq1_set.union(seq2_set)) - len(seq1_set.intersection(seq2_set))\n",
    "    dissimilarity = seq1_set ^ seq2_set\n",
    "    unique_distance = len(dissimilarity)/len(seq1_set.union(seq2_set))\n",
    "    return unique_distance\n",
    "\n",
    "#Use the frequency dictionaries to calculate the distance\n",
    "print(\"Custom Kmer distance function 1 Result:\",custom_kmer_distance1(seq1_freq,seq2_freq))\n",
    "print(\"Custom Kmer distance function 2 Result:\",custom_kmer_distance2(seq1_freq,seq2_freq))\n",
    "\n",
    "#Symmetric difference in set\n",
    "print(\"Use Symmetric Difference in Set for Kmer Distance:\",len(set(seq1_freq).symmetric_difference(set(seq2_freq)))/len(set(seq1_freq).union(set(seq2_freq))))"
   ]
  },
  {
   "cell_type": "code",
   "execution_count": 3,
   "metadata": {},
   "outputs": [
    {
     "name": "stdout",
     "output_type": "stream",
     "text": [
      "{'C': 0.2222222222222222, 'A': 0.3333333333333333}\n",
      "{'A': 3, 'C': 2, 'T': 3, 'G': 1}\n",
      "Custom function for finding kmers in seq 1: {'A': 3, 'C': 2, 'T': 3, 'G': 1}\n",
      "Custom function for finding kmers in seq 2: {'ACT': 1, 'CTT': 1, 'TTA': 1, 'TAC': 1, 'ACA': 1, 'CAG': 1, 'AGT': 1}\n",
      "\n",
      "Iterating through kmers\n",
      "ACT\n",
      "CTA\n",
      "TAT\n",
      "ATC\n",
      "TCA\n",
      "CAG\n",
      "AGT\n"
     ]
    },
    {
     "data": {
      "image/png": "[encoded data removed]",
      "text/plain": [
       "<Figure size 432x288 with 1 Axes>"
      ]
     },
     "metadata": {
      "needs_background": "light"
     },
     "output_type": "display_data"
    }
   ],
   "source": [
    "#Using Kmers and Kmers frequency\n",
    "#L will have L-k+1 kmers and n^k total possible kmers - useful for custom function\n",
    "#Useful for assembling DNA sequences\n",
    "#improve heterogeneous gene expression\n",
    "#identify species in metagenomic samples\n",
    "#Create attenuated vaccines\n",
    "\n",
    "#Seq 1 = ATGA...\n",
    "#1st Kmer of 3 is ATG, next Kmer of 3 is TGA\n",
    "\n",
    "#Check the frequency for specific nucleotides\n",
    "print(seq1.frequencies(chars={\"A\",\"C\"}, relative=True))\n",
    "\n",
    "print(seq1.kmer_frequencies(k=1))\n",
    "\n",
    "#Custom function to find kmers\n",
    "def count_kmers(seq, k=3):\n",
    "    counts, number_kmers = {}, len(seq)-k+1\n",
    "    for num in range(number_kmers):\n",
    "        #slicing sequence together\n",
    "        kmer = str(seq)[num:num+k]\n",
    "        if kmer not in counts:\n",
    "            counts[kmer] = 0\n",
    "        counts[kmer] += 1\n",
    "    return counts\n",
    "\n",
    "print(\"Custom function for finding kmers in seq 1:\",count_kmers(seq1,1))\n",
    "print(\"Custom function for finding kmers in seq 2:\",count_kmers(seq2))\n",
    "\n",
    "#Iterating through kmers\n",
    "print(\"\\nIterating through kmers\")\n",
    "for k in seq1.iter_kmers(3, overlap=True):\n",
    "    print(k)\n",
    "\n",
    "#Plot kmers frequency\n",
    "dna_seq1 = DNA(\"ATTAAAGGTTTATACCTTCCCAGGTAACAAACCAACCAACTTTCGATCTTGTAGATCTGTTCTCTAAA\")\n",
    "plt.bar(dna_seq1.kmer_frequencies(2).keys(), dna_seq1.kmer_frequencies(2).values())\n",
    "plt.show()"
   ]
  },
  {
   "cell_type": "code",
   "execution_count": null,
   "metadata": {},
   "outputs": [],
   "source": []
  }
 ],
 "metadata": {
  "kernelspec": {
   "display_name": "Python 3",
   "language": "python",
   "name": "python3"
  },
  "language_info": {
   "codemirror_mode": {
    "name": "ipython",
    "version": 3
   },
   "file_extension": ".py",
   "mimetype": "text/x-python",
   "name": "python",
   "nbconvert_exporter": "python",
   "pygments_lexer": "ipython3",
   "version": "3.7.4"
  }
 },
 "nbformat": 4,
 "nbformat_minor": 4
}
