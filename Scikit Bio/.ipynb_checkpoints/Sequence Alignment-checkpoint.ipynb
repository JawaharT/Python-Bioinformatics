{
 "cells": [
  {
   "cell_type": "code",
   "execution_count": 24,
   "metadata": {},
   "outputs": [
    {
     "name": "stdout",
     "output_type": "stream",
     "text": [
      "Local Score between seq1 and 2: 8\n",
      "Local Alignments between seq1 and 2: TabularMSA[DNA]\n",
      "---------------------\n",
      "Stats:\n",
      "    sequence count: 2\n",
      "    position count: 4\n",
      "---------------------\n",
      "CAGT\n",
      "CAGT\n",
      "\n",
      "Local Start and End positions of alignments in seq1 and 2: [(5, 8), (5, 8)]\n",
      "\n",
      "Global Score between seq1 and 2: 3.0\n",
      "Global Alignments between seq1 and 2: TabularMSA[DNA]\n",
      "---------------------\n",
      "Stats:\n",
      "    sequence count: 2\n",
      "    position count: 9\n",
      "---------------------\n",
      "ACTATCAGT\n",
      "ACTTACAGT\n",
      "\n",
      "Global Start and End positions of alignments in seq1 and 2: [(0, 8), (0, 8)]\n",
      "\n",
      "Global Score between seq1 and 3: 2.0\n",
      "Global Alignments between seq1 and 3: TabularMSA[DNA]\n",
      "----------------------\n",
      "Stats:\n",
      "    sequence count: 2\n",
      "    position count: 13\n",
      "----------------------\n",
      "----ACTATCAGT\n",
      "ACTTAC-------\n",
      "\n",
      "Global Start and End positions of alignments in seq1 and 3: [(0, 8), (0, 5)] \n",
      "\n"
     ]
    },
    {
     "data": {
      "text/plain": [
       "(TabularMSA[Protein]\n",
       " ---------------------\n",
       " Stats:\n",
       "     sequence count: 2\n",
       "     position count: 4\n",
       " ---------------------\n",
       " ITIT\n",
       " ITIT, 20.0, [(1, 4), (0, 3)])"
      ]
     },
     "execution_count": 24,
     "metadata": {},
     "output_type": "execute_result"
    }
   ],
   "source": [
    "from skbio import DNA,Protein\n",
    "import skbio.alignment as align\n",
    "\n",
    "#Sequence alignment includes checking for gaps, matches and mismatches between 2 sequences\n",
    "#Local and global alignment\n",
    "\n",
    "#Methods\n",
    "#print(dir(align))\n",
    "\n",
    "seq1 = DNA(\"ACTATCAGT\")\n",
    "seq2 = DNA(\"ACTTACAGT\")\n",
    "seq3 = DNA(\"ACTTAC\")\n",
    "\n",
    "#Local alignment using StripedSmithWaterman\n",
    "alignment,score,start_end_positions = align.local_pairwise_align_ssw(seq1,seq2)\n",
    "print(\"Local Score between seq1 and 2:\",score)\n",
    "print(\"Local Alignments between seq1 and 2:\",alignment)\n",
    "print(\"\\nLocal Start and End positions of alignments in seq1 and 2:\",start_end_positions)\n",
    "\n",
    "#Global alignment - gaps are counted and shown\n",
    "glb_alignment,glb_score,glb_start_end_positions = align.global_pairwise_align_nucleotide(seq1,seq2)\n",
    "print(\"\\nGlobal Score between seq1 and 2:\",glb_score)\n",
    "print(\"Global Alignments between seq1 and 2:\",glb_alignment)\n",
    "print(\"\\nGlobal Start and End positions of alignments in seq1 and 2:\",glb_start_end_positions)\n",
    "\n",
    "#Global alignment - gaps are counted and shown using dissimular sequences i.e. seq1 and 3\n",
    "glb2_alignment,glb2_score,glb2_start_end_positions = align.global_pairwise_align_nucleotide(seq1,seq3)\n",
    "print(\"\\nGlobal Score between seq1 and 3:\",glb2_score)\n",
    "print(\"Global Alignments between seq1 and 3:\",glb2_alignment)\n",
    "print(\"\\nGlobal Start and End positions of alignments in seq1 and 3:\",glb2_start_end_positions,\"\\n\")\n",
    "\n",
    "\n",
    "#Alignment using proteins\n",
    "protein1 = Protein(\"MITITE\")\n",
    "protein2 = Protein(\"ITITV\")\n",
    "\n",
    "protein_local_alignment = align.local_pairwise_align_protein(protein1,protein2)\n",
    "protein_local_alignment"
   ]
  },
  {
   "cell_type": "code",
   "execution_count": null,
   "metadata": {},
   "outputs": [],
   "source": []
  }
 ],
 "metadata": {
  "kernelspec": {
   "display_name": "Python 3",
   "language": "python",
   "name": "python3"
  },
  "language_info": {
   "codemirror_mode": {
    "name": "ipython",
    "version": 3
   },
   "file_extension": ".py",
   "mimetype": "text/x-python",
   "name": "python",
   "nbconvert_exporter": "python",
   "pygments_lexer": "ipython3",
   "version": "3.7.4"
  }
 },
 "nbformat": 4,
 "nbformat_minor": 4
}
