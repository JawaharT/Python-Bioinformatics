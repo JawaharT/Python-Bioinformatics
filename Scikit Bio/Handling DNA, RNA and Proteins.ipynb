{
 "cells": [
  {
   "cell_type": "code",
   "execution_count": 7,
   "metadata": {},
   "outputs": [
    {
     "name": "stdout",
     "output_type": "stream",
     "text": [
      "{'-', 'Y', 'G', 'M', 'H', 'K', 'R', 'V', 'N', 'S', 'C', 'D', 'T', '.', 'A', 'W', 'B'}\n",
      "[b'A' b'T' b'G' b'A' b'T' b'C' b'T' b'C' b'G' b'T' b'A' b'A']\n",
      "\n",
      "Complement sequence of DNA\n",
      "<bound method NucleotideMixin.complement of DNA\n",
      "--------------------------\n",
      "Stats:\n",
      "    length: 12\n",
      "    has gaps: False\n",
      "    has degenerates: False\n",
      "    has definites: True\n",
      "    GC-content: 33.33%\n",
      "--------------------------\n",
      "0 ATGATCTCGT AA>\n",
      "\n",
      "Reverse Complement of DNA\n",
      "<bound method NucleotideMixin.reverse_complement of DNA\n",
      "--------------------------\n",
      "Stats:\n",
      "    length: 12\n",
      "    has gaps: False\n",
      "    has degenerates: False\n",
      "    has definites: True\n",
      "    GC-content: 33.33%\n",
      "--------------------------\n",
      "0 ATGATCTCGT AA>\n",
      "\n",
      " True\n",
      "12\n",
      "ATG\n"
     ]
    }
   ],
   "source": [
    "import skbio\n",
    "from skbio import DNA,RNA,Protein,Sequence\n",
    "import matplotlib.pyplot as plt\n",
    "\n",
    "#Methods in Sckit Bio package\n",
    "#print(dir(skbio))\n",
    "\n",
    "#Creating a generic sequence\n",
    "seq1 = Sequence(\"ATGATCTCGTAA\")\n",
    "#Only string of seq1 shown or use print function same with DNA,RNA and Protein sequences\n",
    "\n",
    "#More specific sequence\n",
    "dna_seq = DNA(\"ATGATCTCGTAA\")\n",
    "\n",
    "#Add more metadata\n",
    "d = DNA(\"ACCGGGTA\", metadata={\"id\":\"my-sequence\", \"description\":\"GFP\"}, \n",
    "        positional_metadata={\"quality\":[22,25,22,18,23,25,25,25]})\n",
    "\n",
    "#Check for the alphabet\n",
    "print(dna_seq.alphabet)\n",
    "\n",
    "\n",
    "#Sequence manipulation\n",
    "\n",
    "\n",
    "#Methods in DNA\n",
    "#print(dir(dna_seq))\n",
    "\n",
    "#Get data without stats using print or str\n",
    "#Get to numpy array of Nucleotides\n",
    "print(dna_seq.values)\n",
    "\n",
    "#Get complement and its stats\n",
    "print(\"\\nComplement sequence of DNA\")\n",
    "print(dna_seq.complement)\n",
    "\n",
    "#Get reverse complement and its stats and also use string manipulation too by converting to string\n",
    "print(\"\\nReverse Complement of DNA\")\n",
    "print(dna_seq.reverse_complement)\n",
    "\n",
    "#Check if it is reverse complement\n",
    "print(\"\\n\",dna_seq.reverse_complement().is_reverse_complement(dna_seq))\n",
    "\n",
    "#Count of nucleotide\n",
    "dna_seq.count(\"G\")\n",
    "\n",
    "#Find the first occurance of a nucleotide\n",
    "dna_seq.index(\"G\")\n",
    "\n",
    "#Length of sequence\n",
    "print(len(dna_seq))\n",
    "\n",
    "#Slice a sequence\n",
    "print(dna_seq[0:3])"
   ]
  },
  {
   "cell_type": "code",
   "execution_count": 8,
   "metadata": {},
   "outputs": [
    {
     "name": "stdout",
     "output_type": "stream",
     "text": [
      "slice(0, 3, None) ATG\n",
      "Motif slice positions: slice(2, 4, None), Sequence: GA\n",
      "Motif slice positions: slice(10, 12, None), Sequence: AA\n"
     ]
    }
   ],
   "source": [
    "#Search for a particular pattern, if nothing printed then no pattern is found\n",
    "for match in dna_seq.find_with_regex(\"(ATG+)\"):\n",
    "    print(match,str(dna_seq[match]))\n",
    "\n",
    "#Motif - a sequence of nucleotides or amino acids that has a biological sequence\n",
    "#A motif is formed by the 3D arrangement of amino acid which may or may not be adjacent\n",
    "#Sequence motifs are conserved sequences of similar or identical patterns that may occur within nucleic acids or proteins\n",
    "#within molecules in same organism or multiple species\n",
    "\n",
    "#Find Motif slices that identifies purine runs\n",
    "for motif_slice in dna_seq.find_motifs(\"purine-run\", min_length=2):\n",
    "    print(\"Motif slice positions: {}, Sequence: {}\".format(motif_slice,str(dna_seq[motif_slice])))"
   ]
  },
  {
   "cell_type": "code",
   "execution_count": 9,
   "metadata": {},
   "outputs": [
    {
     "name": "stdout",
     "output_type": "stream",
     "text": [
      "AUGAUCUCGUAA\n",
      "MIS*\n"
     ]
    },
    {
     "data": {
      "text/plain": [
       "Protein\n",
       "--------------------------\n",
       "Stats:\n",
       "    length: 4\n",
       "    has gaps: False\n",
       "    has degenerates: False\n",
       "    has definites: True\n",
       "    has stops: True\n",
       "--------------------------\n",
       "0 MIS*"
      ]
     },
     "execution_count": 9,
     "metadata": {},
     "output_type": "execute_result"
    }
   ],
   "source": [
    "#Protein Synthesis\n",
    "\n",
    "#Transcription: DNA to mRNA\n",
    "mrna_seq = dna_seq.transcribe()\n",
    "print(mrna_seq)\n",
    "\n",
    "#Translation: mRNA to Protein amino acid sequence\n",
    "aa_seq = mrna_seq.translate()\n",
    "print(aa_seq)\n",
    "\n",
    "#Can translate DNA sequence directly to amino acid sequence\n",
    "dna_seq.translate()"
   ]
  },
  {
   "cell_type": "code",
   "execution_count": 10,
   "metadata": {},
   "outputs": [
    {
     "name": "stdout",
     "output_type": "stream",
     "text": [
      "MITIT\n"
     ]
    },
    {
     "data": {
      "text/plain": [
       "['_GrammaredSequence__definite_char_codes',\n",
       " '_GrammaredSequence__degenerate_codes',\n",
       " '_GrammaredSequence__gap_codes',\n",
       " '_GrammaredSequence__validation_mask',\n",
       " '_Protein__stop_codes',\n",
       " '__abstractmethods__',\n",
       " '__array_interface__',\n",
       " '__bool__',\n",
       " '__class__',\n",
       " '__contains__',\n",
       " '__copy__',\n",
       " '__deepcopy__',\n",
       " '__delattr__',\n",
       " '__dict__',\n",
       " '__dir__',\n",
       " '__doc__',\n",
       " '__eq__',\n",
       " '__format__',\n",
       " '__ge__',\n",
       " '__getattribute__',\n",
       " '__getitem__',\n",
       " '__gt__',\n",
       " '__hash__',\n",
       " '__init__',\n",
       " '__init_subclass__',\n",
       " '__iter__',\n",
       " '__le__',\n",
       " '__len__',\n",
       " '__lt__',\n",
       " '__module__',\n",
       " '__ne__',\n",
       " '__new__',\n",
       " '__reduce__',\n",
       " '__reduce_ex__',\n",
       " '__repr__',\n",
       " '__reversed__',\n",
       " '__setattr__',\n",
       " '__sizeof__',\n",
       " '__slots__',\n",
       " '__str__',\n",
       " '__subclasshook__',\n",
       " '__weakref__',\n",
       " '_abc_impl',\n",
       " '_ascii_invert_case_bit_offset',\n",
       " '_ascii_lowercase_boundary',\n",
       " '_assert_can_cast_to',\n",
       " '_byte_ownership',\n",
       " '_chars_to_indices',\n",
       " '_constructor',\n",
       " '_convert_to_uppercase',\n",
       " '_copy',\n",
       " '_copy_',\n",
       " '_deepcopy_',\n",
       " '_definite_char_codes',\n",
       " '_degenerate_codes',\n",
       " '_eq_',\n",
       " '_gap_codes',\n",
       " '_get_positional_metadata_index',\n",
       " '_init_',\n",
       " '_interval_metadata_axis_len_',\n",
       " '_motifs',\n",
       " '_munge_to_bytestring',\n",
       " '_munge_to_index_array',\n",
       " '_munge_to_self_type',\n",
       " '_munge_to_sequence',\n",
       " '_ne_',\n",
       " '_number_of_extended_ascii_codes',\n",
       " '_positional_metadata_axis_len_',\n",
       " '_repr_stats',\n",
       " '_set_bytes',\n",
       " '_set_bytes_contiguous',\n",
       " '_slice_positional_metadata',\n",
       " '_stop_codes',\n",
       " '_string',\n",
       " '_validate',\n",
       " '_validation_mask',\n",
       " 'alphabet',\n",
       " 'concat',\n",
       " 'count',\n",
       " 'default_gap_char',\n",
       " 'default_write_format',\n",
       " 'definite_chars',\n",
       " 'definites',\n",
       " 'degap',\n",
       " 'degenerate_chars',\n",
       " 'degenerate_map',\n",
       " 'degenerates',\n",
       " 'distance',\n",
       " 'expand_degenerates',\n",
       " 'find_motifs',\n",
       " 'find_with_regex',\n",
       " 'frequencies',\n",
       " 'gap_chars',\n",
       " 'gaps',\n",
       " 'has_definites',\n",
       " 'has_degenerates',\n",
       " 'has_gaps',\n",
       " 'has_interval_metadata',\n",
       " 'has_metadata',\n",
       " 'has_nondegenerates',\n",
       " 'has_positional_metadata',\n",
       " 'has_stops',\n",
       " 'index',\n",
       " 'interval_metadata',\n",
       " 'iter_contiguous',\n",
       " 'iter_kmers',\n",
       " 'kmer_frequencies',\n",
       " 'lowercase',\n",
       " 'match_frequency',\n",
       " 'matches',\n",
       " 'metadata',\n",
       " 'mismatch_frequency',\n",
       " 'mismatches',\n",
       " 'nondegenerate_chars',\n",
       " 'nondegenerates',\n",
       " 'observed_chars',\n",
       " 'positional_metadata',\n",
       " 'read',\n",
       " 'replace',\n",
       " 'stop_chars',\n",
       " 'stops',\n",
       " 'to_regex',\n",
       " 'values',\n",
       " 'write']"
      ]
     },
     "execution_count": 10,
     "metadata": {},
     "output_type": "execute_result"
    }
   ],
   "source": [
    "#Create protein sequnce form scratch\n",
    "protein_a = Protein(\"MITIT\")\n",
    "print(protein_a)\n",
    "\n",
    "#Methods that can be performed on amino acid sequences\n",
    "dir(Protein)"
   ]
  },
  {
   "cell_type": "code",
   "execution_count": 34,
   "metadata": {},
   "outputs": [
    {
     "name": "stdout",
     "output_type": "stream",
     "text": [
      "4\n",
      "33.33333333333333\n"
     ]
    },
    {
     "data": {
      "image/png": "[encoded data removed]",
      "text/plain": [
       "<Figure size 432x288 with 1 Axes>"
      ]
     },
     "metadata": {},
     "output_type": "display_data"
    },
    {
     "data": {
      "image/png": "[encoded data removed]",
      "text/plain": [
       "<Figure size 432x288 with 1 Axes>"
      ]
     },
     "metadata": {},
     "output_type": "display_data"
    }
   ],
   "source": [
    "#Check sequence of composition\n",
    "\n",
    "#Get GC frequency = G + C counts\n",
    "print(dna_seq.gc_frequency())\n",
    "\n",
    "#Get GC Content = GC frequency/length of sequence * 100\n",
    "print(dna_seq.gc_content()*100) #To get a percentage\n",
    "\n",
    "#Can make custom functions to calculate gc_frequency, gc_content likewise for AT bases found in Biopython and Biotite\n",
    "#programs\n",
    "\n",
    "#Get frequencies of each nucleotide, can also use custom function to replicate this\n",
    "dna_freq = dna_seq.frequencies()\n",
    "plt.style.use('dark_background')\n",
    "\n",
    "plt.bar(dna_freq.keys(), dna_freq.values())\n",
    "plt.grid(False)\n",
    "plt.show()\n",
    "\n",
    "#Pie chart version of bar chart above\n",
    "colourlist = (\"white \"*4).split(\" \")\n",
    "wedges, texts = plt.pie(dna_freq.values(), labels=dna_freq.keys())\n",
    "for text, colour in zip(texts, colourlist):\n",
    "    text.set_color(colour)\n",
    "plt.show()"
   ]
  },
  {
   "cell_type": "code",
   "execution_count": 35,
   "metadata": {},
   "outputs": [
    {
     "data": {
      "image/png": "[encoded data removed]",
      "text/plain": [
       "<Figure size 432x288 with 1 Axes>"
      ]
     },
     "metadata": {},
     "output_type": "display_data"
    }
   ],
   "source": [
    "#Pie chart with percentages\n",
    "plt.style.use(\"bmh\")\n",
    "plt.pie(dna_freq.values(), labels=dna_freq.keys(), autopct='%1.1f%%')\n",
    "plt.show()"
   ]
  },
  {
   "cell_type": "code",
   "execution_count": null,
   "metadata": {},
   "outputs": [],
   "source": []
  }
 ],
 "metadata": {
  "kernelspec": {
   "display_name": "Python 3",
   "language": "python",
   "name": "python3"
  },
  "language_info": {
   "codemirror_mode": {
    "name": "ipython",
    "version": 3
   },
   "file_extension": ".py",
   "mimetype": "text/x-python",
   "name": "python",
   "nbconvert_exporter": "python",
   "pygments_lexer": "ipython3",
   "version": "3.7.4"
  }
 },
 "nbformat": 4,
 "nbformat_minor": 4
}
