{
 "cells": [
  {
   "cell_type": "code",
   "execution_count": 28,
   "metadata": {},
   "outputs": [
    {
     "name": "stdout",
     "output_type": "stream",
     "text": [
      "Is root present? True\n",
      "Does tree have a tip? False\n",
      "                    /-Alice\n",
      "                   |\n",
      "                   |--Atlas\n",
      "          /Edmund--|\n",
      "         |         |--Chichi\n",
      "         |         |\n",
      "         |          \\-Diem\n",
      "         |\n",
      "         |          /-Max\n",
      "-GreatGrandfather--|\n",
      "         |          \\-Gerard\n",
      "         |\n",
      "         |          /-Albert\n",
      "         |         |\n",
      "         |         |--Penelope\n",
      "          \\Nancy---|\n",
      "                   |--Felicity\n",
      "                   |\n",
      "                    \\-Julia\n",
      "List of all children after root: [<TreeNode, name: Edmund, internal node count: 0, tips count: 4>, <TreeNode, name: Vaughn, internal node count: 0, tips count: 2>, <TreeNode, name: Nancy, internal node count: 0, tips count: 4>]\n",
      "Total number of nodes: 14\n",
      "Common ancestor of everyone: <bound method TreeNode.lowest_common_ancestor of <TreeNode, name: GreatGrandfather, internal node count: 3, tips count: 10>>\n"
     ]
    }
   ],
   "source": [
    "from skbio import TreeNode\n",
    "from io import StringIO\n",
    "\n",
    "#Phylogenetics: Strudy of evolutionary history and relationships among entities\n",
    "\n",
    "#A phylo Tree/Evolutionary tree will show these relationships among various species,\n",
    "#as well as how similar/different species are among genetic characteristics\n",
    "\n",
    "#; will help create a root node to its left, can only be one root per tree\n",
    "#, will create node to its left\n",
    "#() paired parentheses provide relationships\n",
    "#Placing () in a node's location will create a child\n",
    "#Children <= Node <= Root\n",
    "#((grand_child,grand_child)Brother, Children)rootParent\n",
    "\n",
    "#Create a TreeNode\n",
    "tree = TreeNode.read(StringIO(\"((Alice,Atlas,Chichi,Diem)Edmund,(Max,Gerard)Vaughn,(Albert,Penelope,Felicity,Julia)Nancy)GreatGrandfather;\"))\n",
    "\n",
    "#Check if this is a root\n",
    "print(\"Is root present?\",tree.is_root())\n",
    "\n",
    "#Check for if tip\n",
    "print(\"Does tree have a tip?\",tree.is_tip())\n",
    "\n",
    "#Dendogram diagram\n",
    "print(tree.ascii_art())\n",
    "\n",
    "#Check for children\n",
    "print(\"List of all children after root:\",tree.children)\n",
    "print(\"Total number of nodes:\",tree.count())\n",
    "\n",
    "#Get common ancestor\n",
    "print(\"Common ancestor of everyone:\",tree.lowest_common_ancestor)"
   ]
  },
  {
   "cell_type": "code",
   "execution_count": 29,
   "metadata": {},
   "outputs": [
    {
     "name": "stdout",
     "output_type": "stream",
     "text": [
      "                    /Enoch--- /-Zeus\n",
      "          /Seth----|\n",
      "         |          \\-Shawn\n",
      "-Adam----|\n",
      "         |--Cain\n",
      "         |\n",
      "          \\-Helena\n"
     ]
    }
   ],
   "source": [
    "#Example 2\n",
    "new_tree = TreeNode.read(StringIO(\"(((Zeus)Enoch,Shawn)Seth,Cain,Helena)Adam;\"))\n",
    "print(new_tree.ascii_art())"
   ]
  },
  {
   "cell_type": "code",
   "execution_count": null,
   "metadata": {},
   "outputs": [],
   "source": []
  }
 ],
 "metadata": {
  "kernelspec": {
   "display_name": "Python 3",
   "language": "python",
   "name": "python3"
  },
  "language_info": {
   "codemirror_mode": {
    "name": "ipython",
    "version": 3
   },
   "file_extension": ".py",
   "mimetype": "text/x-python",
   "name": "python",
   "nbconvert_exporter": "python",
   "pygments_lexer": "ipython3",
   "version": "3.7.4"
  }
 },
 "nbformat": 4,
 "nbformat_minor": 4
}
